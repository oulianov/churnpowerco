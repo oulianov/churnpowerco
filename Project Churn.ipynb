{
 "cells": [
  {
   "cell_type": "markdown",
   "metadata": {},
   "source": [
    "# PowerCo Business & Data Science case\n",
    "\n",
    "## Introduction\n",
    "\n",
    "The data for this case study was provided with the courtesy of BCG Gamma during one of their workshop at HEC Paris. Customer's data was fully anonymized. \n",
    "\n",
    "We study client's data from an energy company. **The goal is to predict churn, and then propose a solution to avoid it.**\n",
    "\n",
    "In other words : What clients are expected to leave the company ? How to prevent them from doing so ?\n",
    "\n",
    "In this notebook, \n",
    "\n",
    "1. We import, format and clean company's raw client data. \n",
    "2. We predict churn using two machine learning techniques : **random forests and artificial neural networks.** We compare their performance on relevant metrics. \n",
    "3. We propose a way to avoid churn : offering a discount, set as to maximize company's overall profit."
   ]
  },
  {
   "cell_type": "markdown",
   "metadata": {},
   "source": [
    "## 1. Data preprocessing\n",
    "\n",
    "The data was provided by PowerCo as it was extracted from their databases. "
   ]
  },
  {
   "cell_type": "code",
   "execution_count": 3,
   "metadata": {},
   "outputs": [],
   "source": [
    "import pandas as pd\n",
    "import numpy as np"
   ]
  },
  {
   "cell_type": "code",
   "execution_count": 4,
   "metadata": {},
   "outputs": [],
   "source": [
    "# Importing client's data. Those were anonymized.  \n",
    "pricing_df = pd.read_csv('data/Pricing data.csv')\n",
    "energy_df = pd.read_csv('data/Energy usage data.csv')\n",
    "finance_df = pd.read_csv('data/Finance data.csv')\n",
    "crm_df = pd.read_csv('data/CRM data.csv')\n",
    "sales_channel_df = pd.read_csv('data/Sales channel data.csv')\n",
    "forecast_df = pd.read_csv('data/Forecast data.csv')"
   ]
  },
  {
   "cell_type": "markdown",
   "metadata": {},
   "source": [
    "### 1.a Preprocessing of pricing data\n",
    "\n",
    "Energy prices depends on a lot of factor, from who's the client, to the date of the month. The dataset `pricing_df` contains the daily pricing for energy of the last 12 days for each client. \n",
    "\n",
    "First, we need to unstack the columns. This is how the client stores data, but not how we need it to be. \n",
    "\n",
    "Then, we need to fill missing values. Indeed, some companies have only 10 days of pricing data instead of 12. We do so using *forward fill*. "
   ]
  },
  {
   "cell_type": "code",
   "execution_count": 5,
   "metadata": {},
   "outputs": [],
   "source": [
    "#Pricing_df preprocessing : custom functions we'll use. \n",
    "\n",
    "def sample_df_by_id(df, size=100, by_id='id'):\n",
    "    \"\"\"Samples (size) items in column (by_id) of (df),\n",
    "    then returns all the items of (df) with these (by_id)\"\"\"\n",
    "    # This function was useful during development to avoid testing the \n",
    "    # preprocessing each time on the whole dataset. \n",
    "    sample_id = pd.Series(df[by_id].unique()).sample(size)\n",
    "    \n",
    "    sample_df = df[df[by_id].isin(sample_id)]\n",
    "    return sample_df\n",
    "\n",
    "def preprocess_price(df, new_row='id', new_column='price_date'):\n",
    "    \"\"\"Custom preprocessing to unstack, reindex and flatten columns, \n",
    "    and to propagate missing data.\"\"\"\n",
    "    others_s = pricing_df.columns.tolist()\n",
    "    #To unstack columns, we build a pivot table. \n",
    "    df = df.pivot_table(values=others_s, index=new_row, columns=new_column, aggfunc=(lambda x: x))\n",
    "    df = df.reset_index()\n",
    "    df.columns = df.columns.to_flat_index()\n",
    "    #Filling NA values with backfill, from left to right\n",
    "    for i, _id in df.iterrows():\n",
    "        if i%100==0: print('row', i, '/', df.shape[0])\n",
    "        df.iloc[i,:] = df.iloc[i,:].fillna(method='ffill') #.fillna(0)\n",
    "    return df"
   ]
  },
  {
   "cell_type": "code",
   "execution_count": 6,
   "metadata": {},
   "outputs": [
    {
     "name": "stdout",
     "output_type": "stream",
     "text": "row 0 / 16094\nrow 100 / 16094\nrow 200 / 16094\nrow 300 / 16094\nrow 400 / 16094\nrow 500 / 16094\nrow 600 / 16094\nrow 700 / 16094\nrow 800 / 16094\nrow 900 / 16094\nrow 1000 / 16094\nrow 1100 / 16094\nrow 1200 / 16094\nrow 1300 / 16094\nrow 1400 / 16094\nrow 1500 / 16094\nrow 1600 / 16094\nrow 1700 / 16094\nrow 1800 / 16094\nrow 1900 / 16094\nrow 2000 / 16094\nrow 2100 / 16094\nrow 2200 / 16094\nrow 2300 / 16094\nrow 2400 / 16094\nrow 2500 / 16094\nrow 2600 / 16094\nrow 2700 / 16094\nrow 2800 / 16094\nrow 2900 / 16094\nrow 3000 / 16094\nrow 3100 / 16094\nrow 3200 / 16094\nrow 3300 / 16094\nrow 3400 / 16094\nrow 3500 / 16094\nrow 3600 / 16094\nrow 3700 / 16094\nrow 3800 / 16094\nrow 3900 / 16094\nrow 4000 / 16094\nrow 4100 / 16094\nrow 4200 / 16094\nrow 4300 / 16094\nrow 4400 / 16094\nrow 4500 / 16094\nrow 4600 / 16094\nrow 4700 / 16094\nrow 4800 / 16094\nrow 4900 / 16094\nrow 5000 / 16094\nrow 5100 / 16094\nrow 5200 / 16094\nrow 5300 / 16094\nrow 5400 / 16094\nrow 5500 / 16094\nrow 5600 / 16094\nrow 5700 / 16094\nrow 5800 / 16094\nrow 5900 / 16094\nrow 6000 / 16094\nrow 6100 / 16094\nrow 6200 / 16094\nrow 6300 / 16094\nrow 6400 / 16094\nrow 6500 / 16094\nrow 6600 / 16094\nrow 6700 / 16094\nrow 6800 / 16094\n"
    }
   ],
   "source": [
    "#Preprocessing prices. Lengthy process due to filling NA values line by line. \n",
    "\n",
    "# sample = sample_df_by_id(proc_pricing_df)\n",
    "# preprocess_sales(sample)\n",
    "proc_pricing_df = preprocess_price(pricing_df)\n",
    "proc_pricing_df.shape"
   ]
  },
  {
   "cell_type": "markdown",
   "metadata": {},
   "source": [
    "### 1.b Preprocessing of Sales Channel data\n",
    "\n",
    "This additionnal dataset contains information about client's activity (exact labelling was anonymized).\n",
    "\n",
    "Thus, this data is categorical and needs to be transformed."
   ]
  },
  {
   "cell_type": "code",
   "execution_count": 0,
   "metadata": {},
   "outputs": [],
   "source": [
    "def preprocess_sales(df):\n",
    "    # We replace the encoding (t, f) by (1, 0)\n",
    "    df['also_gas_client'].replace({'t': 1, 'f': 0}, inplace=True)\n",
    "    # We use get_dummies to encode categorical data. \n",
    "    cols = list(sales_channel_df)\n",
    "    cols.remove('id')\n",
    "    cols.remove('also_gas_client')\n",
    "    df = pd.get_dummies(df, columns=cols, dummy_na=True)\n",
    "    return df\n",
    "\n",
    "#sample = sample_df_by_id(sales_channel_df.copy())\n",
    "#preprocess_sales(sample)\n",
    "proc_sales_channel_df = sales_channel_df.copy()\n",
    "proc_sales_channel_df = preprocess_sales(proc_sales_channel_df)\n",
    "proc_sales_channel_df.shape"
   ]
  },
  {
   "cell_type": "markdown",
   "metadata": {},
   "source": [
    "### 1.c Merging all the datasets\n",
    "\n",
    "The other datasets are quite \"data science ready\" and require minimal preprocessing. \n",
    "\n",
    "We merge all the datasets into one big single datasets that we'll use for training our models. "
   ]
  },
  {
   "cell_type": "code",
   "execution_count": 0,
   "metadata": {},
   "outputs": [],
   "source": [
    "#Merging datasets\n",
    "\n",
    "proc_pricing_df = proc_pricing_df.rename(columns={('id', ''): 'id'})\n",
    "merged_df = proc_pricing_df.merge(energy_df, on=\"id\", how=\"left\")\n",
    "merged_df = merged_df.merge(finance_df, on=\"id\", how=\"left\")\n",
    "merged_df = merged_df.merge(crm_df, on=\"id\", how=\"left\")\n",
    "\n",
    "# This last dataset has a lot of missing values in some columns. We remove these columns. \n",
    "#forecas_df = forecast_df.drop(['forecast_ele_bill_next_01m', \n",
    "#                               'forecast_ele_bill_next_calyear',\n",
    "#                               'forecast_ele_bill_next_12m',\n",
    "#                               'forecast_consumption_ele_next_01m'], axis=1)\n",
    "\n",
    "#merged_df = merged_df.merge(forecast_df)\n",
    "merged_df = merged_df.merge(proc_sales_channel_df)\n",
    "\n",
    "for c in merged_df.columns:\n",
    "    if \"Unnamed\" in c:\n",
    "        merged_df = merged_df.drop(c, 1)\n",
    "\n",
    "merged_df"
   ]
  },
  {
   "cell_type": "markdown",
   "metadata": {},
   "source": [
    "Lastly, during training and data exploration, incoherent values were found :\n",
    "\n",
    "- negative energy consumption\n",
    "- strings were numbers were supposed to be found\n",
    "\n",
    "We remove the rows were such errors were found. "
   ]
  },
  {
   "cell_type": "code",
   "execution_count": 0,
   "metadata": {},
   "outputs": [],
   "source": [
    "#Cleaning weird values\n",
    "\n",
    "cleaned_df = merged_df[merged_df[\"obs_consumption_ele_last_12m\"]>=0]\n",
    "cleaned_df = cleaned_df[cleaned_df[\"obs_consumption_gas_last_12m\"]>=0]\n",
    "cleaned_df = cleaned_df[cleaned_df[\"obs_consumption_ele_last_01m\"]>=0]\n",
    "\n",
    "#We have some funky values in these columns. We replace them by na. \n",
    "cols = [('price_p1_fix', '2015-01-01'), ('price_p1_fix', '2015-02-01'), ('price_p1_fix', '2015-03-01'), \n",
    "     ('price_p1_fix', '2015-04-01'), ('price_p1_fix', '2015-05-01')]\n",
    "cleaned_df[cols] = cleaned_df[cols].replace(regex='.*[a-zA-Z]+.*', value=np.nan)\n",
    "\n",
    "cleaned_df = cleaned_df.dropna()\n",
    "cleaned_df"
   ]
  },
  {
   "cell_type": "markdown",
   "metadata": {},
   "source": [
    "## 2. Building prediction model\n",
    "\n",
    "Using the previously built and cleaned dataset, we build a prediction model. "
   ]
  },
  {
   "cell_type": "code",
   "execution_count": 0,
   "metadata": {},
   "outputs": [],
   "source": [
    "#Building X and y matrices\n",
    "to_predict = 'target_churned'\n",
    "features = list(cleaned_df.columns)\n",
    "features.remove(to_predict)\n",
    "features.remove('id')\n",
    "\n",
    "X = np.array(cleaned_df[features])\n",
    "y = np.array(cleaned_df[to_predict]) \n",
    "\n",
    "#Normalizing values\n",
    "\n",
    "from sklearn.preprocessing import StandardScaler\n",
    "\n",
    "sc = StandardScaler()\n",
    "X = sc.fit_transform(X)"
   ]
  },
  {
   "cell_type": "code",
   "execution_count": 0,
   "metadata": {},
   "outputs": [],
   "source": [
    "#Train and test split\n",
    "from sklearn.model_selection import train_test_split\n",
    "\n",
    "X_train, X_test, y_train, y_test = train_test_split(X, y, train_size=0.8)"
   ]
  },
  {
   "cell_type": "markdown",
   "metadata": {},
   "source": [
    "### 2.a Random forest\n",
    "\n",
    "Random forest is an easy out-of-the box algorithm for classification. We'll use it as a baseline. "
   ]
  },
  {
   "cell_type": "code",
   "execution_count": 0,
   "metadata": {},
   "outputs": [],
   "source": [
    "#Baseline : randomforest\n",
    "\n",
    "from sklearn.ensemble import RandomForestClassifier\n",
    "\n",
    "clf = RandomForestClassifier(n_estimators=100, max_depth=10)\n",
    "clf.fit(X_train, y_train)"
   ]
  },
  {
   "cell_type": "markdown",
   "metadata": {},
   "source": [
    "### 2.b Evaluating the model\n",
    "\n",
    "How good is the model we trained ? Let's check.\n",
    "\n",
    "`clf.score()` returns the accuracy of the model. That is, how many times our model was right. Here, it says that about 90% of our predictions are correct."
   ]
  },
  {
   "cell_type": "code",
   "execution_count": 20,
   "metadata": {},
   "outputs": [
    {
     "data": {
      "text/plain": [
       "0.9019670050761421"
      ]
     },
     "execution_count": 20,
     "metadata": {},
     "output_type": "execute_result"
    }
   ],
   "source": [
    "clf.score(X_test, y_test)"
   ]
  },
  {
   "cell_type": "markdown",
   "metadata": {},
   "source": [
    "But in the dataset, 90% of the clients don't churn. Which means that a model always saying that client will never churn would also get a score of 90% !"
   ]
  },
  {
   "cell_type": "code",
   "execution_count": 21,
   "metadata": {},
   "outputs": [
    {
     "data": {
      "text/plain": [
       "0.9018848765627975"
      ]
     },
     "execution_count": 21,
     "metadata": {},
     "output_type": "execute_result"
    }
   ],
   "source": [
    "# Proportion of client that don't churn in the dataset : 90% !\n",
    "# Rougly speaking, a dumb classifier always saying \"the client will never churn\" would get an accuracy of 90%.\n",
    "# But would be totally useless.\n",
    "1-sum(y)/len(y)"
   ]
  },
  {
   "cell_type": "markdown",
   "metadata": {},
   "source": [
    "Business-wise, such a model (which always says a client won't churn) is not useful at all. Another metric, more precise, is needed.\n",
    "\n",
    "In our case, a more relevant metric is the AUC. The AUC is the area under the ROC curve. Closer it is to 1, the better is our model not only at predicting, but also at **discriminating**. That is, at saying which clients will churn *and* which clients won't churn. "
   ]
  },
  {
   "cell_type": "code",
   "execution_count": 22,
   "metadata": {},
   "outputs": [
    {
     "name": "stdout",
     "output_type": "stream",
     "text": [
      "ROC AUC score:  0.6918241248874486\n"
     ]
    }
   ],
   "source": [
    "from sklearn.metrics import roc_auc_score\n",
    "\n",
    "# With this metric, our previous \"dumb\" classifier which always predict \"the client will never churn\"\n",
    "# would only get a score of 50%. How better is our model ?\n",
    "preds = clf.predict_proba(X_test)[:,1]\n",
    "print('ROC AUC score: ', roc_auc_score(y_test, preds)) #more than 50%, which is great ! The model is useful. "
   ]
  },
  {
   "cell_type": "markdown",
   "metadata": {},
   "source": [
    "### 2.c Artificial Neural Networks\n",
    "\n",
    "Can we improve on the previous random forest model ? \n",
    "\n",
    "To compare the two models, we will use the AUC metric, for the reasons evoked before. "
   ]
  },
  {
   "cell_type": "code",
   "execution_count": 153,
   "metadata": {},
   "outputs": [],
   "source": [
    "# Building the neural network\n",
    "\n",
    "import tensorflow as tf\n",
    "from tensorflow.keras import Sequential\n",
    "from tensorflow.keras.layers import Dense, Dropout\n",
    "\n",
    "n = len(features)\n",
    "\n",
    "clf_nn = Sequential()\n",
    "clf_nn.add(Dense(units=128, activation = 'relu', kernel_initializer='uniform', input_shape=(n,)))\n",
    "# To avoid overfitting, we add Dropout layers. \n",
    "clf_nn.add(Dropout(rate=0.2))\n",
    "clf_nn.add(Dense(units=32, activation = 'relu', kernel_initializer='uniform'))\n",
    "clf_nn.add(Dropout(rate=0.2))\n",
    "clf_nn.add(Dense(units=32, activation = 'relu', kernel_initializer='uniform'))\n",
    "clf_nn.add(Dropout(rate=0.2))\n",
    "# This is a classification task. There is only one output varying between 0 and 1, which is the\n",
    "# probability of the client churning. \n",
    "clf_nn.add(Dense(units=1, activation = 'sigmoid', kernel_initializer='uniform'))\n",
    "\n",
    "clf_nn.compile(optimizer='nadam',\n",
    "              loss='binary_crossentropy',\n",
    "              metrics=['accuracy', 'AUC'])"
   ]
  },
  {
   "cell_type": "code",
   "execution_count": 132,
   "metadata": {},
   "outputs": [
    {
     "data": {
      "text/plain": [
       "<tensorflow.python.training.tracking.util.CheckpointLoadStatus at 0x7f0a1defe4a8>"
      ]
     },
     "execution_count": 132,
     "metadata": {},
     "output_type": "execute_result"
    }
   ],
   "source": [
    "582# Loading the NN\n",
    "\n",
    "clf_nn.load_weights('model/nn')"
   ]
  },
  {
   "cell_type": "code",
   "execution_count": 154,
   "metadata": {},
   "outputs": [
    {
     "name": "stdout",
     "output_type": "stream",
     "text": [
      "Train on 12605 samples\n",
      "Epoch 1/50\n",
      "12605/12605 [==============================] - 4s 330us/sample - loss: 0.3434 - accuracy: 0.9006 - AUC: 0.5605\n",
      "Epoch 2/50\n",
      "12605/12605 [==============================] - 3s 241us/sample - loss: 0.3137 - accuracy: 0.9019 - AUC: 0.6320\n",
      "Epoch 3/50\n",
      "12605/12605 [==============================] - 3s 255us/sample - loss: 0.3071 - accuracy: 0.9019 - AUC: 0.6549\n",
      "Epoch 4/50\n",
      "12605/12605 [==============================] - 3s 231us/sample - loss: 0.3041 - accuracy: 0.9019 - AUC: 0.6699\n",
      "Epoch 5/50\n",
      "12605/12605 [==============================] - 4s 284us/sample - loss: 0.3021 - accuracy: 0.9027 - AUC: 0.6737\n",
      "Epoch 6/50\n",
      "12605/12605 [==============================] - 4s 278us/sample - loss: 0.3001 - accuracy: 0.9037 - AUC: 0.6806\n",
      "Epoch 7/50\n",
      "12605/12605 [==============================] - 4s 293us/sample - loss: 0.2983 - accuracy: 0.9039 - AUC: 0.6859\n",
      "Epoch 8/50\n",
      "12605/12605 [==============================] - 3s 263us/sample - loss: 0.2971 - accuracy: 0.9042 - AUC: 0.6874\n",
      "Epoch 9/50\n",
      "12605/12605 [==============================] - 4s 288us/sample - loss: 0.2963 - accuracy: 0.9044 - AUC: 0.6890\n",
      "Epoch 10/50\n",
      "12605/12605 [==============================] - 3s 262us/sample - loss: 0.2943 - accuracy: 0.9043 - AUC: 0.6975\n",
      "Epoch 11/50\n",
      "12605/12605 [==============================] - 3s 266us/sample - loss: 0.2921 - accuracy: 0.9047 - AUC: 0.7002\n",
      "Epoch 12/50\n",
      "12605/12605 [==============================] - 3s 272us/sample - loss: 0.2909 - accuracy: 0.9051 - AUC: 0.7045\n",
      "Epoch 13/50\n",
      "12605/12605 [==============================] - 3s 263us/sample - loss: 0.2894 - accuracy: 0.9052 - AUC: 0.7088\n",
      "Epoch 14/50\n",
      "12605/12605 [==============================] - 4s 294us/sample - loss: 0.2887 - accuracy: 0.9054 - AUC: 0.7110\n",
      "Epoch 15/50\n",
      "12605/12605 [==============================] - 4s 284us/sample - loss: 0.2845 - accuracy: 0.9056 - AUC: 0.7253\n",
      "Epoch 16/50\n",
      "12605/12605 [==============================] - 4s 294us/sample - loss: 0.2854 - accuracy: 0.9061 - AUC: 0.7219\n",
      "Epoch 17/50\n",
      "12605/12605 [==============================] - 3s 271us/sample - loss: 0.2837 - accuracy: 0.9063 - AUC: 0.7274\n",
      "Epoch 18/50\n",
      "12605/12605 [==============================] - 3s 265us/sample - loss: 0.2831 - accuracy: 0.9067 - AUC: 0.7289\n",
      "Epoch 19/50\n",
      "12605/12605 [==============================] - 3s 265us/sample - loss: 0.2783 - accuracy: 0.9066 - AUC: 0.7448\n",
      "Epoch 20/50\n",
      "12605/12605 [==============================] - 3s 263us/sample - loss: 0.2801 - accuracy: 0.9074 - AUC: 0.7364\n",
      "Epoch 21/50\n",
      "12605/12605 [==============================] - 3s 276us/sample - loss: 0.2745 - accuracy: 0.9071 - AUC: 0.7529\n",
      "Epoch 22/50\n",
      "12605/12605 [==============================] - 3s 270us/sample - loss: 0.2751 - accuracy: 0.9072 - AUC: 0.7504\n",
      "Epoch 23/50\n",
      "12605/12605 [==============================] - 4s 299us/sample - loss: 0.2750 - accuracy: 0.9065 - AUC: 0.7500\n",
      "Epoch 24/50\n",
      "12605/12605 [==============================] - 4s 300us/sample - loss: 0.2702 - accuracy: 0.9084 - AUC: 0.7628\n",
      "Epoch 25/50\n",
      "12605/12605 [==============================] - 4s 283us/sample - loss: 0.2677 - accuracy: 0.9083 - AUC: 0.7700\n",
      "Epoch 26/50\n",
      "12605/12605 [==============================] - 4s 291us/sample - loss: 0.2666 - accuracy: 0.9101 - AUC: 0.7681\n",
      "Epoch 27/50\n",
      "12605/12605 [==============================] - 4s 282us/sample - loss: 0.2645 - accuracy: 0.9100 - AUC: 0.7728\n",
      "Epoch 28/50\n",
      "12605/12605 [==============================] - 4s 294us/sample - loss: 0.2633 - accuracy: 0.9107 - AUC: 0.7766\n",
      "Epoch 29/50\n",
      "12605/12605 [==============================] - 3s 260us/sample - loss: 0.2598 - accuracy: 0.9107 - AUC: 0.7833\n",
      "Epoch 30/50\n",
      "12605/12605 [==============================] - 3s 260us/sample - loss: 0.2607 - accuracy: 0.9108 - AUC: 0.7826\n",
      "Epoch 31/50\n",
      "12605/12605 [==============================] - 4s 285us/sample - loss: 0.2553 - accuracy: 0.9128 - AUC: 0.7932\n",
      "Epoch 32/50\n",
      "12605/12605 [==============================] - 4s 280us/sample - loss: 0.2575 - accuracy: 0.9124 - AUC: 0.7899\n",
      "Epoch 33/50\n",
      "12605/12605 [==============================] - 4s 286us/sample - loss: 0.2584 - accuracy: 0.9122 - AUC: 0.7879\n",
      "Epoch 34/50\n",
      "12605/12605 [==============================] - 4s 298us/sample - loss: 0.2539 - accuracy: 0.9134 - AUC: 0.7952\n",
      "Epoch 35/50\n",
      "12605/12605 [==============================] - 3s 270us/sample - loss: 0.2540 - accuracy: 0.9132 - AUC: 0.7957\n",
      "Epoch 36/50\n",
      "12605/12605 [==============================] - 4s 313us/sample - loss: 0.2518 - accuracy: 0.9139 - AUC: 0.7978\n",
      "Epoch 37/50\n",
      "12605/12605 [==============================] - 4s 290us/sample - loss: 0.2478 - accuracy: 0.9149 - AUC: 0.8080\n",
      "Epoch 38/50\n",
      "12605/12605 [==============================] - 4s 321us/sample - loss: 0.2510 - accuracy: 0.9136 - AUC: 0.8047\n",
      "Epoch 39/50\n",
      "12605/12605 [==============================] - 4s 315us/sample - loss: 0.2458 - accuracy: 0.9172 - AUC: 0.8069\n",
      "Epoch 40/50\n",
      "12605/12605 [==============================] - 4s 304us/sample - loss: 0.2458 - accuracy: 0.9170 - AUC: 0.8110\n",
      "Epoch 41/50\n",
      "12605/12605 [==============================] - 4s 322us/sample - loss: 0.2448 - accuracy: 0.9163 - AUC: 0.8124\n",
      "Epoch 42/50\n",
      "12605/12605 [==============================] - 4s 312us/sample - loss: 0.2440 - accuracy: 0.9146 - AUC: 0.8144\n",
      "Epoch 43/50\n",
      "12605/12605 [==============================] - 5s 393us/sample - loss: 0.2415 - accuracy: 0.9165 - AUC: 0.8160\n",
      "Epoch 44/50\n",
      "12605/12605 [==============================] - 5s 370us/sample - loss: 0.2417 - accuracy: 0.9173 - AUC: 0.8150\n",
      "Epoch 45/50\n",
      "12605/12605 [==============================] - 3s 265us/sample - loss: 0.2415 - accuracy: 0.9164 - AUC: 0.8181\n",
      "Epoch 46/50\n",
      "12605/12605 [==============================] - 4s 285us/sample - loss: 0.2401 - accuracy: 0.9171 - AUC: 0.8219\n",
      "Epoch 47/50\n",
      "12605/12605 [==============================] - 4s 298us/sample - loss: 0.2379 - accuracy: 0.9183 - AUC: 0.8230\n",
      "Epoch 48/50\n",
      "12605/12605 [==============================] - 4s 294us/sample - loss: 0.2378 - accuracy: 0.9170 - AUC: 0.8250\n",
      "Epoch 49/50\n",
      "12605/12605 [==============================] - 3s 254us/sample - loss: 0.2359 - accuracy: 0.9184 - AUC: 0.8282\n",
      "Epoch 50/50\n",
      "12605/12605 [==============================] - 3s 266us/sample - loss: 0.2374 - accuracy: 0.9180 - AUC: 0.8271\n"
     ]
    }
   ],
   "source": [
    "# Training the NN. 150 epochs\n",
    "\n",
    "# For further training, we save this NN in a file. \n",
    "clf_nn.fit(X_train, y_train, batch_size=32, epochs=50)\n",
    "clf_nn.save_weights('model/nn')"
   ]
  },
  {
   "cell_type": "code",
   "execution_count": 155,
   "metadata": {},
   "outputs": [
    {
     "name": "stdout",
     "output_type": "stream",
     "text": [
      "ROC AUC score:  0.6239989891711545\n"
     ]
    }
   ],
   "source": [
    "preds_nn = clf_nn.predict(X_test)[:,0]\n",
    "print('ROC AUC score: ', roc_auc_score(y_test, preds_nn)) "
   ]
  },
  {
   "cell_type": "markdown",
   "metadata": {},
   "source": [
    "Sadly, this AUC is slightly worse than the Random forest one. Does this mean that the neural network model is inferior ?\n",
    "\n",
    "Well, from a mathematical standpoint, yes. \n",
    "\n",
    "**But how do these models compare from a business standpoint ?** How good are they at actually preventing churn at PowerCo ? "
   ]
  },
  {
   "cell_type": "markdown",
   "metadata": {},
   "source": [
    "## 3. Avoiding churn\n",
    "\n",
    "The two models we built return a value between 0 and 1 associated with the probability of the client churning. \n",
    "\n",
    "Let's assume that to prevent a client from churning, PowerCo issues a 15% discount on their electricity price. We also assume that this definitively deters the client from churning. \n",
    "\n",
    "PowerCo doesn't want either to lose a client and is ready to give it a discount. But PowerCo, however, doesn't want to hand out free discounts. Above which churn probability should PowerCo issues its 15% discount ?  "
   ]
  },
  {
   "cell_type": "code",
   "execution_count": 143,
   "metadata": {},
   "outputs": [],
   "source": [
    "import matplotlib.pyplot as plt\n",
    "\n",
    "def test_model(y, preds, margins, DISCOUNT_RATE=0.15):\n",
    "    \"\"\"Test a model by calculating the margin saved when applying a discount,\n",
    "    taking into account discounts wrongly applied to non-churning clients. \"\"\"\n",
    "    def find_best_p(preds, discount, granularity=200):\n",
    "        \"\"\"Optimization function to find the best probability cutoff\"\"\"\n",
    "        probas = np.linspace(0, 1, granularity)\n",
    "        output_margins = np.zeros(len(probas))\n",
    "        actual_churners = (y == 1)\n",
    "\n",
    "        gains = np.sum(margins)\n",
    "        loss = sum(margins[actual_churners])\n",
    "\n",
    "        for i, p in enumerate(probas):\n",
    "            predicted_churners = preds>=p\n",
    "            prevented_loss = sum(margins[predicted_churners & actual_churners])\n",
    "            # To make calculations easier, we assume that the discount\n",
    "            # is operated on the net margin. It could actually be a bit more. \n",
    "            discount_loss = sum(margins[predicted_churners])*discount\n",
    "            output_margins[i] = gains - loss + prevented_loss - discount_loss\n",
    "\n",
    "        best_profit = max(output_margins)\n",
    "        best_p_index = list(output_margins).index(best_profit)\n",
    "        best_p = probas[best_p_index]\n",
    "        worst_profit = gains - loss\n",
    "        return probas, output_margins, best_p, best_profit, worst_profit\n",
    "    \n",
    "    # Textual and graphical output interpreting the result\n",
    "    probas, output_margins, best_p, best_profit, worst_profit = find_best_p(preds, DISCOUNT_RATE, 200)\n",
    "    print('Above a', round(best_p,4), 'predicted probability of churn, we should apply the', DISCOUNT_RATE*100, '% discount to the client.')\n",
    "    print('If we do so, we\\'ll save', round(best_profit-worst_profit,2), '(', round((best_profit-worst_profit)/,2) '€ of net margin.')\n",
    "\n",
    "    plt.plot(probas, output_margins)\n",
    "    plt.axvline(x=best_p, color='red')\n",
    "    plt.show()"
   ]
  },
  {
   "cell_type": "markdown",
   "metadata": {},
   "source": [
    "Let's first see how do they compare on the whole dataset."
   ]
  },
  {
   "cell_type": "code",
   "execution_count": 156,
   "metadata": {},
   "outputs": [
    {
     "name": "stdout",
     "output_type": "stream",
     "text": [
      "Random forest model\n",
      "Above a 0.1357 predicted probability of churn, we should apply the 15.0 % discount to the client.\n",
      "If we do so, we'll save 183896.75 € of net margin.\n"
     ]
    },
    {
     "data": {
      "image/png": "[encoded data removed]",
      "text/plain": [
       "<Figure size 432x288 with 1 Axes>"
      ]
     },
     "metadata": {
      "needs_background": "light"
     },
     "output_type": "display_data"
    },
    {
     "name": "stdout",
     "output_type": "stream",
     "text": [
      "Neural network model\n",
      "Above a 0.1759 predicted probability of churn, we should apply the 15.0 % discount to the client.\n",
      "If we do so, we'll save 155351.7 € of net margin.\n"
     ]
    },
    {
     "data": {
      "image/png": "[encoded data removed]",
      "text/plain": [
       "<Figure size 432x288 with 1 Axes>"
      ]
     },
     "metadata": {
      "needs_background": "light"
     },
     "output_type": "display_data"
    }
   ],
   "source": [
    "_X = X\n",
    "_y = y\n",
    "margins = sc.inverse_transform(_X)[:,list(cleaned_df.columns).index('net_margin_ele')]\n",
    "\n",
    "print('Random forest model')\n",
    "preds = clf.predict_proba(_X)[:,1]\n",
    "test_model(_y, preds, margins)\n",
    "\n",
    "print('Neural network model')\n",
    "preds = clf_nn.predict_proba(_X)[:,0]\n",
    "test_model(_y, preds, margins)"
   ]
  },
  {
   "cell_type": "markdown",
   "metadata": {},
   "source": [
    "On only the test dataset, results are similar."
   ]
  },
  {
   "cell_type": "code",
   "execution_count": 157,
   "metadata": {},
   "outputs": [
    {
     "name": "stdout",
     "output_type": "stream",
     "text": [
      "Random forest model\n",
      "Above a 0.1307 predicted probability of churn, we should apply the 15.0 % discount to the client.\n",
      "If we do so, we'll save 30142.34 € of net margin.\n"
     ]
    },
    {
     "data": {
      "image/png": "[encoded data removed]",
      "text/plain": [
       "<Figure size 432x288 with 1 Axes>"
      ]
     },
     "metadata": {
      "needs_background": "light"
     },
     "output_type": "display_data"
    },
    {
     "name": "stdout",
     "output_type": "stream",
     "text": [
      "Neural network model\n",
      "Above a 0.1759 predicted probability of churn, we should apply the 15.0 % discount to the client.\n",
      "If we do so, we'll save 8423.56 € of net margin.\n"
     ]
    },
    {
     "data": {
      "image/png": "[encoded data removed]",
      "text/plain": [
       "<Figure size 432x288 with 1 Axes>"
      ]
     },
     "metadata": {
      "needs_background": "light"
     },
     "output_type": "display_data"
    }
   ],
   "source": [
    "_X = X_test\n",
    "_y = y_test\n",
    "margins = sc.inverse_transform(_X)[:,list(cleaned_df.columns).index('net_margin_ele')]\n",
    "\n",
    "print('Random forest model')\n",
    "preds = clf.predict_proba(_X)[:,1]\n",
    "test_model(_y, preds, margins)\n",
    "\n",
    "print('Neural network model')\n",
    "preds = clf_nn.predict_proba(_X)[:,0]\n",
    "test_model(_y, preds, margins)"
   ]
  },
  {
   "cell_type": "markdown",
   "metadata": {},
   "source": [
    "The neural network model is much worse than the rando! Speaking in money, the neural network model is more than three times worse than the random forest one. "
   ]
  },
  {
   "cell_type": "markdown",
   "metadata": {},
   "source": [
    "## Conclusion\n",
    "\n",
    "The best model (Random forest) can save PowerCo about 180 000€ in net margin, simply by offering 15% discount to clients likely to churn. "
   ]
  },
  {
   "cell_type": "code",
   "execution_count": null,
   "metadata": {},
   "outputs": [],
   "source": []
  }
 ],
 "metadata": {
  "kernelspec": {
   "display_name": "Python 3",
   "language": "python",
   "name": "python3"
  },
  "language_info": {
   "codemirror_mode": {
    "name": "ipython",
    "version": 3
   },
   "file_extension": ".py",
   "mimetype": "text/x-python",
   "name": "python",
   "nbconvert_exporter": "python",
   "pygments_lexer": "ipython3",
   "version": "3.6.8"
  }
 },
 "nbformat": 4,
 "nbformat_minor": 2
}